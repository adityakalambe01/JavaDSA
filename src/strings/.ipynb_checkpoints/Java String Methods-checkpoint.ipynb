{
 "cells": [
  {
   "cell_type": "code",
   "execution_count": 37,
   "id": "15c04bd2-864f-4685-92bc-3c0eb8914cf7",
   "metadata": {},
   "outputs": [],
   "source": [
    "String myString = new String(\"AdityaVasantKalambe\");\n",
    "String myString2 = new String(\"ADITYAVASANTKALAMBE\");"
   ]
  },
  {
   "cell_type": "code",
   "execution_count": 38,
   "id": "ccd5d832-a885-40b9-8858-4eab55f6679f",
   "metadata": {},
   "outputs": [
    {
     "data": {
      "text/plain": [
       "a"
      ]
     },
     "execution_count": 38,
     "metadata": {},
     "output_type": "execute_result"
    }
   ],
   "source": [
    "myString.charAt(5)"
   ]
  },
  {
   "cell_type": "code",
   "execution_count": 39,
   "id": "ba59b663-7944-4b62-a67b-a111e78c1e36",
   "metadata": {},
   "outputs": [
    {
     "data": {
      "text/plain": [
       "97"
      ]
     },
     "execution_count": 39,
     "metadata": {},
     "output_type": "execute_result"
    }
   ],
   "source": [
    "myString.codePointAt(7)// give unicode value"
   ]
  },
  {
   "cell_type": "code",
   "execution_count": 40,
   "id": "9254c06b-9063-4e0f-96e3-d00f9ab1ae31",
   "metadata": {},
   "outputs": [
    {
     "data": {
      "text/plain": [
       "86"
      ]
     },
     "execution_count": 40,
     "metadata": {},
     "output_type": "execute_result"
    }
   ],
   "source": [
    "myString.codePointBefore(7)// give unicode value"
   ]
  },
  {
   "cell_type": "code",
   "execution_count": 41,
   "id": "1a7e0898-463b-4d6e-a8e5-d539c015b56c",
   "metadata": {},
   "outputs": [
    {
     "data": {
      "text/plain": [
       "19"
      ]
     },
     "execution_count": 41,
     "metadata": {},
     "output_type": "execute_result"
    }
   ],
   "source": [
    "myString.codePointCount(0,myString.length())// gives length of the string from starting to end index"
   ]
  },
  {
   "cell_type": "code",
   "execution_count": 42,
   "id": "284360b9-cdbc-4524-87fa-0c94e72cb365",
   "metadata": {},
   "outputs": [
    {
     "data": {
      "text/plain": [
       "32"
      ]
     },
     "execution_count": 42,
     "metadata": {},
     "output_type": "execute_result"
    }
   ],
   "source": [
    "myString.compareTo(myString2) // compare two string 0 if both same\n",
    "                              // -ve if 1st < 2nd\n",
    "                             // +ve if 1st > 2nd"
   ]
  },
  {
   "cell_type": "code",
   "execution_count": 43,
   "id": "cb792662-0096-43bd-9d61-1273e62a5a21",
   "metadata": {},
   "outputs": [
    {
     "data": {
      "text/plain": [
       "0"
      ]
     },
     "execution_count": 43,
     "metadata": {},
     "output_type": "execute_result"
    }
   ],
   "source": [
    "myString.compareToIgnoreCase(myString2)// compare two string 0 if both same\n",
    "                                      // -ve if 1st < 2nd\n",
    "                                     // +ve if 1st > 2nd"
   ]
  },
  {
   "cell_type": "code",
   "execution_count": 44,
   "id": "bc5e233a-5f64-4064-a0df-005031134900",
   "metadata": {},
   "outputs": [
    {
     "data": {
      "text/plain": [
       "AdityaVasantKalambeADITYAVASANTKALAMBE"
      ]
     },
     "execution_count": 44,
     "metadata": {},
     "output_type": "execute_result"
    }
   ],
   "source": [
    "myString.concat(myString2) // used to concat two strings"
   ]
  },
  {
   "cell_type": "code",
   "execution_count": 45,
   "id": "af569c13-f7f8-4ef2-98b4-2f3a079a6dd2",
   "metadata": {},
   "outputs": [
    {
     "data": {
      "text/plain": [
       "true"
      ]
     },
     "execution_count": 45,
     "metadata": {},
     "output_type": "execute_result"
    }
   ],
   "source": [
    "myString.contains(\"a\") // find the resultant string is in or not in the given string"
   ]
  },
  {
   "cell_type": "code",
   "execution_count": 46,
   "id": "f3863447-a336-4e14-ae7d-a89010de0e1c",
   "metadata": {},
   "outputs": [
    {
     "data": {
      "text/plain": [
       "true"
      ]
     },
     "execution_count": 46,
     "metadata": {},
     "output_type": "execute_result"
    }
   ],
   "source": [
    "myString.contentEquals(\"AdityaVasantKalambe\");"
   ]
  },
  {
   "cell_type": "code",
   "execution_count": 47,
   "id": "7eaeb9b1-ff43-4283-b34d-9ee02b531262",
   "metadata": {},
   "outputs": [
    {
     "data": {
      "text/plain": [
       "false"
      ]
     },
     "execution_count": 47,
     "metadata": {},
     "output_type": "execute_result"
    }
   ],
   "source": [
    "myString.contentEquals(\"AdityaVasantKalame\");"
   ]
  },
  {
   "cell_type": "code",
   "execution_count": 48,
   "id": "40512f96-c1ae-4f6f-9edd-50083c6110ab",
   "metadata": {},
   "outputs": [
    {
     "data": {
      "text/plain": [
       "adityavasantkalambe"
      ]
     },
     "execution_count": 48,
     "metadata": {},
     "output_type": "execute_result"
    }
   ],
   "source": [
    "myString.toLowerCase()"
   ]
  },
  {
   "cell_type": "code",
   "execution_count": 49,
   "id": "57b13d48-d15e-48cf-bc70-597561393385",
   "metadata": {},
   "outputs": [
    {
     "data": {
      "text/plain": [
       "ADITYAVASANTKALAMBE"
      ]
     },
     "execution_count": 49,
     "metadata": {},
     "output_type": "execute_result"
    }
   ],
   "source": [
    "myString.toUpperCase()"
   ]
  },
  {
   "cell_type": "code",
   "execution_count": 50,
   "id": "eaf4bfc7-720d-4255-9a38-cd231dcfd790",
   "metadata": {},
   "outputs": [
    {
     "data": {
      "text/plain": [
       "ADITYAVASANTKALAMBE"
      ]
     },
     "execution_count": 50,
     "metadata": {},
     "output_type": "execute_result"
    }
   ],
   "source": [
    "\"    ADITYAVASANTKALAMBE       \".trim()"
   ]
  },
  {
   "cell_type": "code",
   "execution_count": 53,
   "id": "fa1d2550-a628-4066-8fae-c39fed0c07f2",
   "metadata": {},
   "outputs": [
    {
     "name": "stdout",
     "output_type": "stream",
     "text": [
      "A\n",
      "D\n",
      "I\n",
      "T\n",
      "Y\n",
      "A\n",
      " \n",
      "V\n",
      "A\n",
      "S\n",
      "A\n",
      "N\n",
      "T\n",
      " \n",
      "K\n",
      "A\n",
      "L\n",
      "A\n",
      "M\n",
      "B\n",
      "E\n"
     ]
    }
   ],
   "source": [
    "for(char ch : \"ADITYA VASANT KALAMBE\".toCharArray()){\n",
    "    System.out.println(ch);\n",
    "}"
   ]
  },
  {
   "cell_type": "code",
   "execution_count": null,
   "id": "502d975f-75d2-4d13-9102-f0dfec8eb33e",
   "metadata": {},
   "outputs": [],
   "source": []
  }
 ],
 "metadata": {
  "kernelspec": {
   "display_name": "Java",
   "language": "java",
   "name": "java"
  },
  "language_info": {
   "codemirror_mode": "java",
   "file_extension": ".jshell",
   "mimetype": "text/x-java-source",
   "name": "Java",
   "pygments_lexer": "java",
   "version": "17.0.10+11-LTS-240"
  }
 },
 "nbformat": 4,
 "nbformat_minor": 5
}
